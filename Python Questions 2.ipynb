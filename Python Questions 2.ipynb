{
 "cells": [
  {
   "cell_type": "code",
   "execution_count": null,
   "metadata": {},
   "outputs": [],
   "source": [
    "# find the sum of the cube of each digit\n",
    "\n",
    "\n",
    "num = int(input(\"Enter a number: \"))\n",
    "\n",
    "sum = 0\n",
    "\n",
    "\n",
    "temp = num\n",
    "while temp > 0:\n",
    "   digit = temp % 10\n",
    "   sum += digit ** 3\n",
    "   temp //= 10\n",
    "\n",
    "print(f\"Sum of cube of digits is: {sum}\")"
   ]
  },
  {
   "cell_type": "code",
   "execution_count": null,
   "metadata": {},
   "outputs": [],
   "source": [
    "#Python Program to Find Armstrong Number in an Interval\n",
    "\n",
    "\n",
    "lower = int(input(\"Enter lower limit: \"))\n",
    "upper = int(input(\"Enter upper limit: \"))\n",
    "\n",
    "for num in range(lower, upper + 1):\n",
    "\n",
    "   \n",
    "   order = len(str(num))\n",
    "    \n",
    "   \n",
    "   sum = 0\n",
    "\n",
    "   temp = num\n",
    "   while temp > 0:\n",
    "       digit = temp % 10\n",
    "       sum += digit ** order\n",
    "       temp //= 10\n",
    "\n",
    "   if num == sum:\n",
    "       print(num)"
   ]
  },
  {
   "cell_type": "code",
   "execution_count": null,
   "metadata": {},
   "outputs": [],
   "source": [
    "#Python Program to Find the Sum of Natural Numbers\n",
    "\n",
    "\n",
    "num = int(input(\"Enter the natural number\"))\n",
    "\n",
    "if num < 0:\n",
    "   print(\"Enter a positive number\")\n",
    "else:\n",
    "   sum = 0\n",
    "   \n",
    "   while(num > 0):\n",
    "       sum += num\n",
    "       num -= 1\n",
    "   print(\"The sum is\", sum)"
   ]
  },
  {
   "cell_type": "code",
   "execution_count": null,
   "metadata": {},
   "outputs": [],
   "source": [
    "#Python Program To Display Powers of 2 Using Anonymous Function Display \n",
    "terms = int(input(\"Enter the number of terms: \"))\n",
    "\n",
    "# use anonymous function\n",
    "result = list(map(lambda x: 2 ** x, range(terms)))\n",
    "\n",
    "print(\"The total terms are:\",terms)\n",
    "for i in range(terms):\n",
    "   print(\"2 raised to power\",i,\"is\",result[i])"
   ]
  },
  {
   "cell_type": "code",
   "execution_count": null,
   "metadata": {},
   "outputs": [],
   "source": [
    "#Python Program to Find Numbers Divisible by Another Number\n",
    "\n",
    "my_list = []\n",
    "while True:\n",
    "    num  = input(\"\")\n",
    "    if num != \"end\":\n",
    "        my_list.append(int(num))\n",
    "    else:\n",
    "        break\n",
    "\n",
    "no = int(input(\"Enter the number to check divisibility: \"))\n",
    "result = list(filter(lambda x: (x % no == 0), my_list))\n",
    "\n",
    "print(f\"Numbers divisible by {no} are {result}\")"
   ]
  }
 ],
 "metadata": {
  "kernelspec": {
   "display_name": "Python 3",
   "language": "python",
   "name": "python3"
  },
  "language_info": {
   "codemirror_mode": {
    "name": "ipython",
    "version": 3
   },
   "file_extension": ".py",
   "mimetype": "text/x-python",
   "name": "python",
   "nbconvert_exporter": "python",
   "pygments_lexer": "ipython3",
   "version": "3.7.7"
  }
 },
 "nbformat": 4,
 "nbformat_minor": 4
}
